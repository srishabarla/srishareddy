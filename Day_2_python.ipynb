{
  "nbformat": 4,
  "nbformat_minor": 0,
  "metadata": {
    "colab": {
      "provenance": [],
      "include_colab_link": true
    },
    "kernelspec": {
      "name": "python3",
      "display_name": "Python 3"
    },
    "language_info": {
      "name": "python"
    }
  },
  "cells": [
    {
      "cell_type": "markdown",
      "metadata": {
        "id": "view-in-github",
        "colab_type": "text"
      },
      "source": [
        "<a href=\"https://colab.research.google.com/github/srishabarla/srishareddy/blob/main/Day_2_python.ipynb\" target=\"_parent\"><img src=\"https://colab.research.google.com/assets/colab-badge.svg\" alt=\"Open In Colab\"/></a>"
      ]
    },
    {
      "cell_type": "markdown",
      "source": [
        "## 1.Difference between the list and tuple?"
      ],
      "metadata": {
        "id": "HN6tCq60j2mQ"
      }
    },
    {
      "cell_type": "code",
      "source": [
        "my_list = [1, 2, 3, 4, 5]\n",
        "print(\"List:\", my_list)\n",
        "my_list[2] = 10\n",
        "my_list.append(6)\n",
        "print(\"Modified List:\", my_list)\n",
        "my_tuple = (1, 2, 3, 4, 5)\n",
        "print(\"Tuple:\", my_tuple)"
      ],
      "metadata": {
        "id": "Cw8ffkhMk6RQ",
        "colab": {
          "base_uri": "https://localhost:8080/"
        },
        "outputId": "dcc0987b-66e1-4af1-a496-c45ef442dd96"
      },
      "execution_count": 1,
      "outputs": [
        {
          "output_type": "stream",
          "name": "stdout",
          "text": [
            "List: [1, 2, 3, 4, 5]\n",
            "Modified List: [1, 2, 10, 4, 5, 6]\n",
            "Tuple: (1, 2, 3, 4, 5)\n"
          ]
        }
      ]
    },
    {
      "cell_type": "markdown",
      "source": [],
      "metadata": {
        "id": "uPBz_bXIam54"
      }
    },
    {
      "cell_type": "markdown",
      "source": [],
      "metadata": {
        "id": "FPYmOQPlaoHX"
      }
    },
    {
      "cell_type": "markdown",
      "source": [
        "## 2.How list is different from an array"
      ],
      "metadata": {
        "id": "uWhJG7hzk6Ov"
      }
    },
    {
      "cell_type": "markdown",
      "source": [],
      "metadata": {
        "id": "ew0LSloOZOcq"
      }
    },
    {
      "cell_type": "code",
      "source": [
        "my_list = [1, 2, 3, 4, 5]\n",
        "print(\"List:\", my_list)\n",
        "mixed_list = [1, \"two\", 2.0, [6,7]]\n",
        "print(\"Mixed List:\", mixed_list)\n",
        "import numpy as np\n",
        "my_array = np.array([9,1,2,8,7])\n",
        "print(\"NumPy Array:\", my_array)\n",
        "float_array = np.array([8.9,1.9,8.5,5.4])\n",
        "print(\"NumPy Float Array:\", float_array)"
      ],
      "metadata": {
        "id": "MowyCcINo4Mn",
        "colab": {
          "base_uri": "https://localhost:8080/"
        },
        "outputId": "a1ddf45d-f966-4cb0-959c-624011d60f75"
      },
      "execution_count": 5,
      "outputs": [
        {
          "output_type": "stream",
          "name": "stdout",
          "text": [
            "List: [1, 2, 3, 4, 5]\n",
            "Mixed List: [1, 'two', 2.0, [6, 7]]\n",
            "NumPy Array: [9 1 2 8 7]\n",
            "NumPy Float Array: [8.9 1.9 8.5 5.4]\n"
          ]
        }
      ]
    },
    {
      "cell_type": "markdown",
      "source": [],
      "metadata": {
        "id": "1uPEIFbxmQwt"
      }
    },
    {
      "cell_type": "markdown",
      "source": [
        "## 3. Use the python list append(),copy(), clear, count, extends(), index(), insert(), pop(), reverse(), sort(), min(), max(),and sum()"
      ],
      "metadata": {
        "id": "_0Rn7JQSk6M1"
      }
    },
    {
      "cell_type": "code",
      "source": [
        "my_list = [3, 1, 4, 1, 5, 9, 2, 6, 5, 3, 5]\n",
        "my_list.append(8)\n",
        "print(\"Appended List:\", my_list)\n",
        "copied_list = my_list.copy()\n",
        "print(\"Copied List:\", copied_list)\n",
        "count_of_five = my_list.count(5)\n",
        "print(\"Count of 5:\", count_of_five)\n",
        "extension = [7, 8, 9]\n",
        "my_list.extend(extension)\n",
        "print(\"Extended List:\", my_list)\n",
        "index_of_six = my_list.index(6)\n",
        "print(\"Index of 6:\", index_of_six)\n",
        "my_list.insert(3, 10)\n",
        "print(\"Inserted List:\", my_list)\n",
        "popped_element = my_list.pop()\n",
        "print(\"Popped Element:\", popped_element)\n",
        "print(\"List after Pop:\", my_list)\n",
        "my_list.reverse()\n",
        "print(\"Reversed List:\", my_list)\n",
        "my_list.sort()\n",
        "print(\"Sorted List:\", my_list)\n",
        "min_value = min(my_list)\n",
        "max_value = max(my_list)\n",
        "print(\"Min Value:\", min_value)\n",
        "print(\"Max Value:\", max_value)\n",
        "sum_of_elements = sum(my_list)\n",
        "print(\"Sum of Elements:\", sum_of_elements)\n",
        "my_list.clear()\n",
        "print(\"Cleared List:\", my_list)"
      ],
      "metadata": {
        "colab": {
          "base_uri": "https://localhost:8080/"
        },
        "id": "2o0k55NGZQa7",
        "outputId": "1c2e5f33-232d-465b-9af5-81b5212b52f4"
      },
      "execution_count": 7,
      "outputs": [
        {
          "output_type": "stream",
          "name": "stdout",
          "text": [
            "Appended List: [3, 1, 4, 1, 5, 9, 2, 6, 5, 3, 5, 8]\n",
            "Copied List: [3, 1, 4, 1, 5, 9, 2, 6, 5, 3, 5, 8]\n",
            "Count of 5: 3\n",
            "Extended List: [3, 1, 4, 1, 5, 9, 2, 6, 5, 3, 5, 8, 7, 8, 9]\n",
            "Index of 6: 7\n",
            "Inserted List: [3, 1, 4, 10, 1, 5, 9, 2, 6, 5, 3, 5, 8, 7, 8, 9]\n",
            "Popped Element: 9\n",
            "List after Pop: [3, 1, 4, 10, 1, 5, 9, 2, 6, 5, 3, 5, 8, 7, 8]\n",
            "Reversed List: [8, 7, 8, 5, 3, 5, 6, 2, 9, 5, 1, 10, 4, 1, 3]\n",
            "Sorted List: [1, 1, 2, 3, 3, 4, 5, 5, 5, 6, 7, 8, 8, 9, 10]\n",
            "Min Value: 1\n",
            "Max Value: 10\n",
            "Sum of Elements: 77\n",
            "Cleared List: []\n"
          ]
        }
      ]
    },
    {
      "cell_type": "markdown",
      "source": [
        "## 4, How would you divide the list into two parts?"
      ],
      "metadata": {
        "id": "W9xfjUWak6J_"
      }
    },
    {
      "cell_type": "code",
      "source": [
        "def split_list(lst):\n",
        "    length = len(lst)\n",
        "    middle = length // 2\n",
        "    return lst[:middle], lst[middle:]\n",
        "my_list = [1, 2, 3, 4, 5, 6, 7, 8, 9, 10]\n",
        "part1, part2 = split_list(my_list)\n",
        "print(\"Part 1:\", part1)\n",
        "print(\"Part 2:\", part2)"
      ],
      "metadata": {
        "colab": {
          "base_uri": "https://localhost:8080/"
        },
        "id": "2AW_NuqSZRND",
        "outputId": "2bc5f9e5-c32a-4db9-e96e-5806d622718c"
      },
      "execution_count": 8,
      "outputs": [
        {
          "output_type": "stream",
          "name": "stdout",
          "text": [
            "Part 1: [1, 2, 3, 4, 5]\n",
            "Part 2: [6, 7, 8, 9, 10]\n"
          ]
        }
      ]
    },
    {
      "cell_type": "markdown",
      "source": [
        "## 5. how to filter the multiple of 3 from a given list and them remove the odd number from the new filtered list.\n",
        "Eg A = [1,2,3,4,5,6,7,8,9,21,23,24]\n",
        "Filter_lsit = [3,6,9,21,24]\n",
        "output_list = [6,24]"
      ],
      "metadata": {
        "id": "Qb1mVGfnk6G5"
      }
    },
    {
      "cell_type": "code",
      "source": [
        "A = [1, 2, 3, 4, 5, 6, 7, 8, 9, 21, 23, 24]\n",
        "filtered_list = [num for num in A if num % 3 == 0]\n",
        "output_list = [num for num in filtered_list if num % 2 == 0]\n",
        "print(\"Filtered List (Multiples of 3):\", filtered_list)\n",
        "print(\"Output List (Even numbers from filtered list):\", output_list)\n"
      ],
      "metadata": {
        "colab": {
          "base_uri": "https://localhost:8080/"
        },
        "id": "hR9GoE89ZVWI",
        "outputId": "780c5e89-6997-4257-8406-d65d5e6c9862"
      },
      "execution_count": 9,
      "outputs": [
        {
          "output_type": "stream",
          "name": "stdout",
          "text": [
            "Filtered List (Multiples of 3): [3, 6, 9, 21, 24]\n",
            "Output List (Even numbers from filtered list): [6, 24]\n"
          ]
        }
      ]
    },
    {
      "cell_type": "markdown",
      "source": [
        "## 6. How you can access keys and values simultaneously and update its value"
      ],
      "metadata": {
        "id": "auhYyjixk6FD"
      }
    },
    {
      "cell_type": "code",
      "source": [
        "my_dict = {'a': 1, 'b': 2, 'c': 3}\n",
        "for key, value in my_dict.items():\n",
        "    print(f\"Key: {key}, Value: {value}\")\n",
        "target_key = 'b'\n",
        "new_value = 10\n",
        "if target_key in my_dict:\n",
        "    my_dict[target_key] = new_value\n",
        "    print(f\"Updated value of key '{target_key}': {my_dict[target_key]}\")\n",
        "else:\n",
        "    print(f\"Key '{target_key}' not found in the dictionary.\")\n",
        "print(\"Updated Dictionary:\", my_dict)"
      ],
      "metadata": {
        "colab": {
          "base_uri": "https://localhost:8080/"
        },
        "id": "wln5yui6ZWSf",
        "outputId": "a1b23a4e-c090-480c-c5cf-659851a054d0"
      },
      "execution_count": 10,
      "outputs": [
        {
          "output_type": "stream",
          "name": "stdout",
          "text": [
            "Key: a, Value: 1\n",
            "Key: b, Value: 2\n",
            "Key: c, Value: 3\n",
            "Updated value of key 'b': 10\n",
            "Updated Dictionary: {'a': 1, 'b': 10, 'c': 3}\n"
          ]
        }
      ]
    },
    {
      "cell_type": "markdown",
      "source": [
        "## 7. Write python program to join, merge, concatente the two dictionaries..\n"
      ],
      "metadata": {
        "id": "vV00n0awk5_G"
      }
    },
    {
      "cell_type": "code",
      "source": [
        "def merge_dicts_method1(dict1, dict2):\n",
        "    result_dict = dict1.copy()\n",
        "    result_dict.update(dict2)\n",
        "    return result_dict\n",
        "def merge_dicts_method2(dict1, dict2):\n",
        "    result_dict = {**dict1, **dict2}\n",
        "    return result_dict\n",
        "dict_a = {'a': 1, 'b': 2, 'c': 3}\n",
        "dict_b = {'c': 4, 'd': 5, 'e': 6}\n",
        "merged_dict_method1 = merge_dicts_method1(dict_a, dict_b)\n",
        "print(\"Merged Dictionary (Method 1):\", merged_dict_method1)\n",
        "merged_dict_method2 = merge_dicts_method2(dict_a, dict_b)\n",
        "print(\"Merged Dictionary (Method 2):\", merged_dict_method2)\n"
      ],
      "metadata": {
        "colab": {
          "base_uri": "https://localhost:8080/"
        },
        "id": "oO9fTz-hZZPd",
        "outputId": "052bd8b2-28a3-4b9e-c8b0-c274b5e40955"
      },
      "execution_count": 11,
      "outputs": [
        {
          "output_type": "stream",
          "name": "stdout",
          "text": [
            "Merged Dictionary (Method 1): {'a': 1, 'b': 2, 'c': 4, 'd': 5, 'e': 6}\n",
            "Merged Dictionary (Method 2): {'a': 1, 'b': 2, 'c': 4, 'd': 5, 'e': 6}\n"
          ]
        }
      ]
    },
    {
      "cell_type": "markdown",
      "source": [
        "## 8. How would you check a specific keys from the dictionary??\n"
      ],
      "metadata": {
        "id": "Z_7dpypWnQ-z"
      }
    },
    {
      "cell_type": "code",
      "source": [
        "my_dict = {'a': 1, 'b': 2, 'c': 3}\n",
        "key_to_check = 'b'\n",
        "if key_to_check in my_dict:\n",
        "    print(f\"The key '{key_to_check}' exists in the dictionary. Value: {my_dict[key_to_check]}\")\n",
        "else:\n",
        "    print(f\"The key '{key_to_check}' does not exist in the dictionary.\")\n",
        "key_to_check = 'd'\n",
        "value = my_dict.get(key_to_check)\n",
        "if value is not None:\n",
        "    print(f\"The key '{key_to_check}' exists in the dictionary. Value: {value}\")\n",
        "else:\n",
        "    print(f\"The key '{key_to_check}' does not exist in the dictionary.\")"
      ],
      "metadata": {
        "colab": {
          "base_uri": "https://localhost:8080/"
        },
        "id": "6IhgwIDnZZun",
        "outputId": "17d2945b-0498-4b7e-bfdd-191cd027ff2d"
      },
      "execution_count": 12,
      "outputs": [
        {
          "output_type": "stream",
          "name": "stdout",
          "text": [
            "The key 'b' exists in the dictionary. Value: 2\n",
            "The key 'd' does not exist in the dictionary.\n"
          ]
        }
      ]
    },
    {
      "cell_type": "markdown",
      "source": [
        "## 9. write a python program to find the unique vowel present in the sentence"
      ],
      "metadata": {
        "id": "EjxeB4ntnirH"
      }
    },
    {
      "cell_type": "code",
      "source": [
        "def unique_vowels(sentence):\n",
        "    vowels = set(\"aeiouAEIOU\")\n",
        "    unique_vowel_set = set()\n",
        "    for char in sentence:\n",
        "        if char in vowels:\n",
        "            unique_vowel_set.add(char)\n",
        "    return unique_vowel_set\n",
        "input_sentence = \"Hello, how are you today? Have a great day!\"\n",
        "result = unique_vowels(input_sentence)\n",
        "print(\"Unique vowels in the sentence:\", result)\n"
      ],
      "metadata": {
        "colab": {
          "base_uri": "https://localhost:8080/"
        },
        "id": "y5H6GoGNZaH1",
        "outputId": "805a626a-9cc8-4129-c96a-25f2dcc98964"
      },
      "execution_count": 13,
      "outputs": [
        {
          "output_type": "stream",
          "name": "stdout",
          "text": [
            "Unique vowels in the sentence: {'a', 'o', 'u', 'e'}\n"
          ]
        }
      ]
    },
    {
      "cell_type": "markdown",
      "source": [
        "## 10. We know that tuple is immutable, do any thing and add element to the tuples."
      ],
      "metadata": {
        "id": "B1VBImcfns6V"
      }
    },
    {
      "cell_type": "code",
      "source": [
        "original_tuple = (1, 2, 3, 4)\n",
        "try:\n",
        "    original_tuple += (5,)\n",
        "except TypeError as e:\n",
        "    print(f\"TypeError: {e}\")\n",
        "new_tuple = original_tuple + (5,)\n",
        "print(\"Original Tuple:\", original_tuple)\n",
        "print(\"New Tuple:\", new_tuple)\n"
      ],
      "metadata": {
        "colab": {
          "base_uri": "https://localhost:8080/"
        },
        "id": "1sCbUF2QZbGR",
        "outputId": "02dc1c80-ad91-4ca4-e9c6-931a2c16eac0"
      },
      "execution_count": 14,
      "outputs": [
        {
          "output_type": "stream",
          "name": "stdout",
          "text": [
            "Original Tuple: (1, 2, 3, 4, 5)\n",
            "New Tuple: (1, 2, 3, 4, 5, 5)\n"
          ]
        }
      ]
    },
    {
      "cell_type": "markdown",
      "source": [
        "## 11. How would you sum the list of tuple and sum of tuple of list\n",
        "list  = [(2,3),(4,5),(6,4)]\n",
        "output= [5,9,10]\n",
        "\n",
        "tuple  =([2,3],[4,5],[6,4])\n",
        "output  =  (5,9,10)"
      ],
      "metadata": {
        "id": "Yd7tDQHuoGFm"
      }
    },
    {
      "cell_type": "code",
      "source": [
        "list_of_tuples = [(2, 3), (4, 5), (6, 4)]\n",
        "sums_list = [sum(t) for t in list_of_tuples]\n",
        "print(\"Output List:\", sums_list)\n",
        "tuple_of_lists = ([2, 3], [4, 5], [6, 4])\n",
        "sums_tuple = tuple(sum(sublist) for sublist in tuple_of_lists)\n",
        "print(\"Output Tuple:\", sums_tuple)\n"
      ],
      "metadata": {
        "colab": {
          "base_uri": "https://localhost:8080/"
        },
        "id": "iq2i28kEZbyG",
        "outputId": "38e85fc3-308d-4bce-95ee-a2691ccbea5e"
      },
      "execution_count": 15,
      "outputs": [
        {
          "output_type": "stream",
          "name": "stdout",
          "text": [
            "Output List: [5, 9, 10]\n",
            "Output Tuple: (5, 9, 10)\n"
          ]
        }
      ]
    },
    {
      "cell_type": "markdown",
      "source": [
        "## 12. FIND THE FREQUENCY OF THE KEYS IN THE GIVEN DICTIONARY"
      ],
      "metadata": {
        "id": "YiXg_vDpoq7X"
      }
    },
    {
      "cell_type": "code",
      "source": [
        "from collections import Counter\n",
        "my_dict = {'a': 1, 'b': 2, 'c': 1, 'd': 3, 'e': 2, 'f': 1}\n",
        "key_frequency = Counter(my_dict)\n",
        "for key, frequency in key_frequency.items():\n",
        "    print(f\"The key '{key}' appears {frequency} times in the dictionary.\")"
      ],
      "metadata": {
        "colab": {
          "base_uri": "https://localhost:8080/"
        },
        "id": "w0ieOsk1Zc4s",
        "outputId": "469ebe09-bccb-4f29-916d-93917b43cbec"
      },
      "execution_count": 16,
      "outputs": [
        {
          "output_type": "stream",
          "name": "stdout",
          "text": [
            "The key 'a' appears 1 times in the dictionary.\n",
            "The key 'b' appears 2 times in the dictionary.\n",
            "The key 'c' appears 1 times in the dictionary.\n",
            "The key 'd' appears 3 times in the dictionary.\n",
            "The key 'e' appears 2 times in the dictionary.\n",
            "The key 'f' appears 1 times in the dictionary.\n"
          ]
        }
      ]
    }
  ]
}