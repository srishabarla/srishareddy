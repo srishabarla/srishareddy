{
  "cells": [
    {
      "cell_type": "markdown",
      "metadata": {
        "id": "view-in-github",
        "colab_type": "text"
      },
      "source": [
        "<a href=\"https://colab.research.google.com/github/srishabarla/srishareddy/blob/main/day1_python.ipynb\" target=\"_parent\"><img src=\"https://colab.research.google.com/assets/colab-badge.svg\" alt=\"Open In Colab\"/></a>"
      ]
    },
    {
      "cell_type": "markdown",
      "metadata": {
        "id": "eh5Ph74_HqpD"
      },
      "source": [
        "## how would you confimm that two strings have the same identity?"
      ]
    },
    {
      "cell_type": "code",
      "execution_count": null,
      "metadata": {
        "id": "oERbt__VktUg",
        "colab": {
          "base_uri": "https://localhost:8080/"
        },
        "outputId": "2eb136f4-7094-48ac-e691-3055dab0e191"
      },
      "outputs": [
        {
          "output_type": "stream",
          "name": "stdout",
          "text": [
            "strings are of same identity\n"
          ]
        }
      ],
      "source": [
        "ch1=\"python\"\n",
        "ch2=\"python\"\n",
        "if ch1 is ch2:\n",
        "  print(\"strings are of same identity\")\n",
        "else:\n",
        "  print(\"strings do not have identity\")"
      ]
    },
    {
      "cell_type": "markdown",
      "metadata": {
        "id": "xSfXJRgVHKOB"
      },
      "source": [
        "How to find the length and index of the string?"
      ]
    },
    {
      "cell_type": "code",
      "execution_count": null,
      "metadata": {
        "colab": {
          "base_uri": "https://localhost:8080/"
        },
        "id": "cuEJ9hZ_S4df",
        "outputId": "f6fcad40-f7b9-41b3-87a5-d511ce0c8452"
      },
      "outputs": [
        {
          "output_type": "stream",
          "name": "stdout",
          "text": [
            "the length of the string: 11\n",
            "\n",
            "the index of substring is: 0\n"
          ]
        }
      ],
      "source": [
        "\n",
        "string=\"Hello world\"\n",
        "print(\"the length of the string:\",len(string))\n",
        "j=string.index('Hello')\n",
        "print(\"\\nthe index of substring is:\",j)"
      ]
    },
    {
      "cell_type": "markdown",
      "metadata": {
        "id": "EGK-LzalIO_i"
      },
      "source": [
        "## how to check a string contain a specific substring"
      ]
    },
    {
      "cell_type": "code",
      "execution_count": null,
      "metadata": {
        "colab": {
          "base_uri": "https://localhost:8080/"
        },
        "id": "g1HYIC9gJ7Vi",
        "outputId": "e716e2ef-05c6-4723-fc10-ab051258ac7a"
      },
      "outputs": [
        {
          "output_type": "stream",
          "name": "stdout",
          "text": [
            "The string contains the substring 'World'\n"
          ]
        }
      ],
      "source": [
        "string_h = \"Hello World!\"\n",
        "sub = \"World\"\n",
        "if sub in string_h:\n",
        "    print(f\"The string contains the substring '{sub}'\")\n",
        "else:\n",
        "    print(f\"The string does not contain the substring '{sub}'\")"
      ]
    },
    {
      "cell_type": "markdown",
      "metadata": {
        "id": "LmY6RXjoJF9h"
      },
      "source": [
        "## how to a take a string from backward with two step difference?\n"
      ]
    },
    {
      "cell_type": "code",
      "execution_count": null,
      "metadata": {
        "colab": {
          "base_uri": "https://localhost:8080/"
        },
        "id": "_C_pqVqBJ8AA",
        "outputId": "e34f3442-1731-4bd7-b3d7-73171d2925f8"
      },
      "outputs": [
        {
          "output_type": "stream",
          "name": "stdout",
          "text": [
            "Original string: thank you\n",
            "Result string: uykat\n"
          ]
        }
      ],
      "source": [
        "\n",
        "string_k = \"thank you\"\n",
        "\n",
        "result = string_k[::-2]\n",
        "\n",
        "print(\"Original string:\", string_k)\n",
        "print(\"Result string:\", result)"
      ]
    },
    {
      "cell_type": "markdown",
      "metadata": {
        "id": "7eg6JfyuJr_2"
      },
      "source": [
        "## how to find the index of the last element"
      ]
    },
    {
      "cell_type": "code",
      "execution_count": null,
      "metadata": {
        "colab": {
          "base_uri": "https://localhost:8080/"
        },
        "id": "T84ODp77J8zR",
        "outputId": "f7a9e9ea-6ace-412a-b2e0-b058ae773aeb"
      },
      "outputs": [
        {
          "output_type": "stream",
          "name": "stdout",
          "text": [
            "Index of the last element: 10\n"
          ]
        }
      ],
      "source": [
        "\n",
        "stra= \"Jai hanuman\"\n",
        "# Finding the index value of the last element of the string.\n",
        "index = len(stra) - 1\n",
        "print(\"Index of the last element:\",index)"
      ]
    },
    {
      "cell_type": "markdown",
      "metadata": {
        "id": "FTdxvLc1J0lv"
      },
      "source": [
        "## Write 2 ways to concatinate the string"
      ]
    },
    {
      "cell_type": "code",
      "execution_count": null,
      "metadata": {
        "id": "j8P9ODeTJ9Zz",
        "colab": {
          "base_uri": "https://localhost:8080/"
        },
        "outputId": "0b2dfe30-57c7-4c5b-a845-c04e5c991270"
      },
      "outputs": [
        {
          "output_type": "stream",
          "name": "stdout",
          "text": [
            "concatenation of two strings using + operator= Hello everyone Welcome to party\n"
          ]
        }
      ],
      "source": [
        "\n",
        "string_1= \"Hello everyone\"\n",
        "string_2= \" Welcome to party\"\n",
        "\n",
        "print(\"concatenation of two strings using + operator=\",string_1 + string_2)"
      ]
    },
    {
      "cell_type": "code",
      "source": [
        "\n",
        "string_a = input(\"Enter the first string: \")\n",
        "string_b = input(\"Enter the second string: \")\n",
        "result = f'My name is {string_a} and I am from the team {string_b} '\n",
        "print(result)"
      ],
      "metadata": {
        "colab": {
          "base_uri": "https://localhost:8080/"
        },
        "id": "m6Oc806GvsDo",
        "outputId": "511f3a6a-dc8b-4688-945c-5b26f47274d1"
      },
      "execution_count": null,
      "outputs": [
        {
          "output_type": "stream",
          "name": "stdout",
          "text": [
            "Enter the first string: Hii\n",
            "Enter the second string: Welcome\n",
            "My name is Hii and I am from the team Welcome \n"
          ]
        }
      ]
    }
  ],
  "metadata": {
    "colab": {
      "provenance": [],
      "include_colab_link": true
    },
    "kernelspec": {
      "display_name": "Python 3",
      "name": "python3"
    },
    "language_info": {
      "name": "python"
    }
  },
  "nbformat": 4,
  "nbformat_minor": 0
}