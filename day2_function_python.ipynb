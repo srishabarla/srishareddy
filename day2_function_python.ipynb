{
  "nbformat": 4,
  "nbformat_minor": 0,
  "metadata": {
    "colab": {
      "provenance": [],
      "include_colab_link": true
    },
    "kernelspec": {
      "name": "python3",
      "display_name": "Python 3"
    },
    "language_info": {
      "name": "python"
    }
  },
  "cells": [
    {
      "cell_type": "markdown",
      "metadata": {
        "id": "view-in-github",
        "colab_type": "text"
      },
      "source": [
        "<a href=\"https://colab.research.google.com/github/srishabarla/srishareddy/blob/main/day2_function_python.ipynb\" target=\"_parent\"><img src=\"https://colab.research.google.com/assets/colab-badge.svg\" alt=\"Open In Colab\"/></a>"
      ]
    },
    {
      "cell_type": "markdown",
      "source": [
        "## Write a python program to crate a lambda funciotn that adds 15 to a given numebr\n"
      ],
      "metadata": {
        "id": "Cu2MTBpAH98v"
      }
    },
    {
      "cell_type": "code",
      "source": [
        "add_15 = lambda x: x + 15\n",
        "input_number = 7\n",
        "result = add_15(input_number)\n",
        "print(f\"The result of adding 15 to {input_number} is: {result}\")"
      ],
      "metadata": {
        "id": "QBZKf4hYIYh-",
        "outputId": "ff901b08-1bf7-43a4-b779-a32c5deb69d5",
        "colab": {
          "base_uri": "https://localhost:8080/"
        }
      },
      "execution_count": null,
      "outputs": [
        {
          "output_type": "stream",
          "name": "stdout",
          "text": [
            "The result of adding 15 to 7 is: 22\n"
          ]
        }
      ]
    },
    {
      "cell_type": "markdown",
      "source": [
        "## Write a funciton to create a prime number generator"
      ],
      "metadata": {
        "id": "QvheE-ZfIJFc"
      }
    },
    {
      "cell_type": "code",
      "source": [
        "def is_prime(num):\n",
        "    \"\"\"Check if a number is prime.\"\"\"\n",
        "    if num < 2:\n",
        "        return False\n",
        "    for i in range(2, int(num**0.5) + 1):\n",
        "        if num % i == 0:\n",
        "            return False\n",
        "    return True\n",
        "def prime_generator():\n",
        "    \"\"\"Generate prime numbers.\"\"\"\n",
        "    num = 2\n",
        "    while True:\n",
        "        if is_prime(num):\n",
        "            yield num\n",
        "        num += 1\n",
        "generator = prime_generator()\n",
        "for _ in range(5):\n",
        "    print(next(generator))"
      ],
      "metadata": {
        "id": "z19r-AaMIIlC",
        "outputId": "b9c83765-ff1d-45ce-e01d-ddee78fde01c",
        "colab": {
          "base_uri": "https://localhost:8080/"
        }
      },
      "execution_count": null,
      "outputs": [
        {
          "output_type": "stream",
          "name": "stdout",
          "text": [
            "2\n",
            "3\n",
            "5\n",
            "7\n",
            "11\n"
          ]
        }
      ]
    },
    {
      "cell_type": "markdown",
      "source": [
        "## Create a lambda funtion to filter out the even numebr from a given list"
      ],
      "metadata": {
        "id": "fgG1qcgaIZKL"
      }
    },
    {
      "cell_type": "code",
      "source": [
        "numbers = [1, 2, 3, 4, 5, 6, 7, 8, 9, 10]\n",
        "filtered_numbers = list(filter(lambda x: x % 2 != 0, numbers))\n",
        "print(\"Original list:\", numbers)\n",
        "print(\"Filtered list (without even numbers):\", filtered_numbers)"
      ],
      "metadata": {
        "id": "FWQS-SgjImHw",
        "outputId": "6e65ef71-6044-4e98-f45a-63fa6b51c49c",
        "colab": {
          "base_uri": "https://localhost:8080/"
        }
      },
      "execution_count": null,
      "outputs": [
        {
          "output_type": "stream",
          "name": "stdout",
          "text": [
            "Original list: [1, 2, 3, 4, 5, 6, 7, 8, 9, 10]\n",
            "Filtered list (without even numbers): [1, 3, 5, 7, 9]\n"
          ]
        }
      ]
    },
    {
      "cell_type": "markdown",
      "source": [
        "## Create a funciton for prime numebr generator"
      ],
      "metadata": {
        "id": "c1H7iXqDIuJI"
      }
    },
    {
      "cell_type": "code",
      "source": [
        "def is_prime(num):\n",
        "    \"\"\"Check if a number is prime.\"\"\"\n",
        "    if num < 2:\n",
        "        return False\n",
        "    for i in range(2, int(num**0.5) + 1):\n",
        "        if num % i == 0:\n",
        "            return False\n",
        "    return True\n",
        "def generate_primes(limit):\n",
        "    \"\"\"Generate prime numbers up to a specified limit.\"\"\"\n",
        "    primes = []\n",
        "    num = 2\n",
        "    while num <= limit:\n",
        "        if is_prime(num):\n",
        "            primes.append(num)\n",
        "        num += 1\n",
        "    return primes\n",
        "limit = 20\n",
        "prime_numbers = generate_primes(limit)\n",
        "print(f\"Prime numbers up to {limit}: {prime_numbers}\")"
      ],
      "metadata": {
        "id": "B6zt1ESKI2T4",
        "outputId": "aca2de21-5701-4ee1-adfe-364065e02ab4",
        "colab": {
          "base_uri": "https://localhost:8080/"
        }
      },
      "execution_count": null,
      "outputs": [
        {
          "output_type": "stream",
          "name": "stdout",
          "text": [
            "Prime numbers up to 20: [2, 3, 5, 7, 11, 13, 17, 19]\n"
          ]
        }
      ]
    },
    {
      "cell_type": "markdown",
      "source": [
        "## create funciton for fibbonacci series generator"
      ],
      "metadata": {
        "id": "NMp0TAZaI18z"
      }
    },
    {
      "cell_type": "code",
      "source": [
        "def generate_fibonacci(n):\n",
        "    \"\"\"Generate Fibonacci series up to the nth term.\"\"\"\n",
        "    fibonacci_series = [0, 1]\n",
        "    while len(fibonacci_series) < n:\n",
        "        next_term = fibonacci_series[-1] + fibonacci_series[-2]\n",
        "        fibonacci_series.append(next_term)\n",
        "    return fibonacci_series\n",
        "n = 10\n",
        "fibonacci_sequence = generate_fibonacci(n)\n",
        "print(f\"Fibonacci series up to the {n}th term: {fibonacci_sequence}\")"
      ],
      "metadata": {
        "id": "dpa2ABE8JCnt",
        "outputId": "6ad7ad43-63ec-4ea8-a89f-0aff333f6499",
        "colab": {
          "base_uri": "https://localhost:8080/"
        }
      },
      "execution_count": null,
      "outputs": [
        {
          "output_type": "stream",
          "name": "stdout",
          "text": [
            "Fibonacci series up to the 10th term: [0, 1, 1, 2, 3, 5, 8, 13, 21, 34]\n"
          ]
        }
      ]
    }
  ]
}