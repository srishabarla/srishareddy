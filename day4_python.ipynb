{
  "nbformat": 4,
  "nbformat_minor": 0,
  "metadata": {
    "colab": {
      "provenance": [],
      "collapsed_sections": [
        "uRvHq6WK1iip",
        "HrRqpK9A1mvj",
        "ZlrFrill3Bl4"
      ],
      "include_colab_link": true
    },
    "kernelspec": {
      "name": "python3",
      "display_name": "Python 3"
    },
    "language_info": {
      "name": "python"
    }
  },
  "cells": [
    {
      "cell_type": "markdown",
      "metadata": {
        "id": "view-in-github",
        "colab_type": "text"
      },
      "source": [
        "<a href=\"https://colab.research.google.com/github/srishabarla/srishareddy/blob/main/day4_python.ipynb\" target=\"_parent\"><img src=\"https://colab.research.google.com/assets/colab-badge.svg\" alt=\"Open In Colab\"/></a>"
      ]
    },
    {
      "cell_type": "markdown",
      "source": [
        "`Good morning, wish you all the best,.All the 3 assignment has been included here only`"
      ],
      "metadata": {
        "id": "jWYB760w4xUu"
      }
    },
    {
      "cell_type": "markdown",
      "source": [
        "# Part ONe"
      ],
      "metadata": {
        "id": "uRvHq6WK1iip"
      }
    },
    {
      "cell_type": "markdown",
      "source": [
        "## 1. Create a function that sum only the float number from a given hetrogenous list"
      ],
      "metadata": {
        "id": "xpZzcKAyyb6V"
      }
    },
    {
      "cell_type": "code",
      "source": [
        "def sum_floats(heterogeneous_list):\n",
        "    \"\"\"Sum only the float numbers from a heterogeneous list.\"\"\"\n",
        "    float_numbers = [num for num in heterogeneous_list if isinstance(num, float)]\n",
        "    total_sum = sum(float_numbers)\n",
        "    return total_sum\n",
        "heterogeneous_list = [1, 2.5, 'hello', 3.7, True, 5, 8.2, 'world']\n",
        "result = sum_floats(heterogeneous_list)\n",
        "print(f\"Original list: {heterogeneous_list}\")\n",
        "print(f\"Sum of float numbers: {result}\")\n"
      ],
      "metadata": {
        "id": "eLlEJRxTy8_f",
        "colab": {
          "base_uri": "https://localhost:8080/"
        },
        "outputId": "7b1b41a4-e5ed-4287-cc1b-f2fe8f9d2b0c"
      },
      "execution_count": 1,
      "outputs": [
        {
          "output_type": "stream",
          "name": "stdout",
          "text": [
            "Original list: [1, 2.5, 'hello', 3.7, True, 5, 8.2, 'world']\n",
            "Sum of float numbers: 14.399999999999999\n"
          ]
        }
      ]
    },
    {
      "cell_type": "code",
      "source": [
        "def reverse_list(input_list):\n",
        "    \"\"\"Reverse a list using a loop.\"\"\"\n",
        "    reversed_list = []\n",
        "    for item in input_list[::-1]:\n",
        "        reversed_list.append(item)\n",
        "    return reversed_list\n",
        "original_list = [1, 2, 3, 4, 5]\n",
        "reversed_result = reverse_list(original_list)\n",
        "print(f\"Original list: {original_list}\")\n",
        "print(f\"Reversed list: {reversed_result}\")\n"
      ],
      "metadata": {
        "id": "TO6D3KTSy9-x",
        "colab": {
          "base_uri": "https://localhost:8080/"
        },
        "outputId": "8f5d6168-085b-44c8-d332-25cb6f574ec6"
      },
      "execution_count": 2,
      "outputs": [
        {
          "output_type": "stream",
          "name": "stdout",
          "text": [
            "Original list: [1, 2, 3, 4, 5]\n",
            "Reversed list: [5, 4, 3, 2, 1]\n"
          ]
        }
      ]
    },
    {
      "cell_type": "markdown",
      "source": [
        "## 2. Count the total number of digit using the loop"
      ],
      "metadata": {
        "id": "MxMyCaZHzEB-"
      }
    },
    {
      "cell_type": "code",
      "source": [
        "def count_digits(number):\n",
        "    \"\"\"Count the total number of digits in a number using a loop.\"\"\"\n",
        "    count = 0\n",
        "    while number != 0:\n",
        "        number //= 10\n",
        "        count += 1\n",
        "    return count\n",
        "input_number = 12345\n",
        "digit_count = count_digits(input_number)\n",
        "print(f\"Number: {input_number}\")\n",
        "print(f\"Total number of digits: {digit_count}\")"
      ],
      "metadata": {
        "id": "DZYJiYdQzcVv",
        "colab": {
          "base_uri": "https://localhost:8080/"
        },
        "outputId": "5895d30a-2bcd-4c65-f85b-83023f40d8ba"
      },
      "execution_count": 3,
      "outputs": [
        {
          "output_type": "stream",
          "name": "stdout",
          "text": [
            "Number: 12345\n",
            "Total number of digits: 5\n"
          ]
        }
      ]
    },
    {
      "cell_type": "markdown",
      "source": [
        "## 3. Display this\n",
        "5 4 3 2 1\n",
        "\n",
        "4 3 2 1\n",
        "\n",
        "3 2 1\n",
        "\n",
        "2 1\n",
        "\n",
        "1"
      ],
      "metadata": {
        "id": "kG8Phx7VzYWD"
      }
    },
    {
      "cell_type": "markdown",
      "source": [
        "## 4. Display this"
      ],
      "metadata": {
        "id": "xTaGWpQXzy-M"
      }
    },
    {
      "cell_type": "code",
      "source": [
        "for i in range(5, 0, -1):\n",
        "    for j in range(i, 0, -1):\n",
        "        print(j, end=\" \")\n",
        "    print()"
      ],
      "metadata": {
        "id": "ixPmbjRfzx16",
        "colab": {
          "base_uri": "https://localhost:8080/"
        },
        "outputId": "ebf83663-5995-4e20-9d34-7de70f4e84b6"
      },
      "execution_count": 4,
      "outputs": [
        {
          "output_type": "stream",
          "name": "stdout",
          "text": [
            "5 4 3 2 1 \n",
            "4 3 2 1 \n",
            "3 2 1 \n",
            "2 1 \n",
            "1 \n"
          ]
        }
      ]
    },
    {
      "cell_type": "markdown",
      "source": [
        "## 5. Write function that generate multiplication table upto a given range in Python"
      ],
      "metadata": {
        "id": "1OYQk9N70Ax3"
      }
    },
    {
      "cell_type": "code",
      "source": [
        "def multiplication_table(n, range_limit):\n",
        "    \"\"\"Generate a multiplication table up to a given range.\"\"\"\n",
        "    for i in range(1, range_limit + 1):\n",
        "        result = n * i\n",
        "        print(f\"{n} * {i} = {result}\")\n",
        "number_to_generate_table = 5\n",
        "range_limit = 10\n",
        "multiplication_table(number_to_generate_table, range_limit)"
      ],
      "metadata": {
        "id": "NeosDqO904-u",
        "colab": {
          "base_uri": "https://localhost:8080/"
        },
        "outputId": "0ba8af26-0888-4c34-dc1b-65570bf5db8e"
      },
      "execution_count": 5,
      "outputs": [
        {
          "output_type": "stream",
          "name": "stdout",
          "text": [
            "5 * 1 = 5\n",
            "5 * 2 = 10\n",
            "5 * 3 = 15\n",
            "5 * 4 = 20\n",
            "5 * 5 = 25\n",
            "5 * 6 = 30\n",
            "5 * 7 = 35\n",
            "5 * 8 = 40\n",
            "5 * 9 = 45\n",
            "5 * 10 = 50\n"
          ]
        }
      ]
    },
    {
      "cell_type": "code",
      "source": [
        "# what are the difference between the list comprehension and loop??"
      ],
      "metadata": {
        "id": "V9z-kXUi0468"
      },
      "execution_count": null,
      "outputs": []
    },
    {
      "cell_type": "code",
      "source": [
        "squares = [x**2 for x in range(5)]\n",
        "print(squares)\n",
        "even_numbers = [x for x in range(10) if x % 2 == 0]\n",
        "print(even_numbers)\n"
      ],
      "metadata": {
        "id": "e0eLnJqd04b2",
        "colab": {
          "base_uri": "https://localhost:8080/"
        },
        "outputId": "3fef2e5c-46de-45d7-e3ae-5a80e8e3a5fe"
      },
      "execution_count": 6,
      "outputs": [
        {
          "output_type": "stream",
          "name": "stdout",
          "text": [
            "[0, 1, 4, 9, 16]\n",
            "[0, 2, 4, 6, 8]\n"
          ]
        }
      ]
    },
    {
      "cell_type": "code",
      "source": [
        "squares = []\n",
        "for x in range(5):\n",
        "    squares.append(x**2)\n",
        "print(squares)\n",
        "even_numbers = []\n",
        "for x in range(10):\n",
        "    if x % 2 == 0:\n",
        "        even_numbers.append(x)\n",
        "print(even_numbers)"
      ],
      "metadata": {
        "colab": {
          "base_uri": "https://localhost:8080/"
        },
        "id": "YYjeFzk0_Mys",
        "outputId": "bea03060-f46f-4343-ceb1-fc4c5ee23b24"
      },
      "execution_count": 7,
      "outputs": [
        {
          "output_type": "stream",
          "name": "stdout",
          "text": [
            "[0, 1, 4, 9, 16]\n",
            "[0, 2, 4, 6, 8]\n"
          ]
        }
      ]
    },
    {
      "cell_type": "markdown",
      "source": [
        "# Part two"
      ],
      "metadata": {
        "id": "HrRqpK9A1mvj"
      }
    },
    {
      "cell_type": "markdown",
      "source": [
        "## 6. Write a python program for the palindrome checker using the loop"
      ],
      "metadata": {
        "id": "T36QPuxw1pfo"
      }
    },
    {
      "cell_type": "code",
      "source": [
        "def is_palindrome(s):\n",
        "    \"\"\"Check if a string is a palindrome using a loop.\"\"\"\n",
        "    s = s.lower()\n",
        "    s = ''.join(char for char in s if char.isalnum())\n",
        "    length = len(s)\n",
        "    for i in range(length // 2):\n",
        "        if s[i] != s[length - i - 1]:\n",
        "            return False\n",
        "    return True\n",
        "input_string = \"A man, a plan, a canal, Panama!\"\n",
        "result = is_palindrome(input_string)\n",
        "print(f\"Input string: {input_string}\")\n",
        "print(f\"Is it a palindrome? {'Yes' if result else 'No'}\")"
      ],
      "metadata": {
        "id": "5k_AjmF_2c6r",
        "colab": {
          "base_uri": "https://localhost:8080/"
        },
        "outputId": "53ad2bbf-d6ec-44e7-b768-26fe1f7b0c30"
      },
      "execution_count": 8,
      "outputs": [
        {
          "output_type": "stream",
          "name": "stdout",
          "text": [
            "Input string: A man, a plan, a canal, Panama!\n",
            "Is it a palindrome? Yes\n"
          ]
        }
      ]
    },
    {
      "cell_type": "markdown",
      "source": [
        "## 7. Factorial Calculation\n",
        "Write a program that calculates the factorial of a given number using a loop. The user should input the number, and the program should display its factorial."
      ],
      "metadata": {
        "id": "QLZ4Dc1O1zHm"
      }
    },
    {
      "cell_type": "code",
      "source": [
        "def calculate_factorial(n):\n",
        "    \"\"\"Calculate the factorial of a given number using a loop.\"\"\"\n",
        "    if n < 0:\n",
        "        return\n",
        "    elif n == 0 or n == 1:\n",
        "        return 1\n",
        "    factorial_result = 1\n",
        "    for i in range(2, n + 1):\n",
        "        factorial_result *= i\n",
        "    return factorial_result\n",
        "user_input = int(input(\"Enter a non-negative integer to calculate its factorial: \"))\n",
        "result = calculate_factorial(user_input)\n",
        "print(f\"The factorial of {user_input} is: {result}\")"
      ],
      "metadata": {
        "id": "XJZCGK0s2LYV",
        "colab": {
          "base_uri": "https://localhost:8080/"
        },
        "outputId": "eb0aadac-3426-4155-b8c2-5b96bc5c4056"
      },
      "execution_count": 9,
      "outputs": [
        {
          "output_type": "stream",
          "name": "stdout",
          "text": [
            "Enter a non-negative integer to calculate its factorial: 3\n",
            "The factorial of 3 is: 6\n"
          ]
        }
      ]
    },
    {
      "cell_type": "markdown",
      "source": [
        "## 8. Binary to Decimal Converter\n",
        "Create a program that converts a binary number (entered by the user) to its decimal equivalent. The user should input the binary number as a string, and the program should output its decimal equivalent."
      ],
      "metadata": {
        "id": "dAX_1Cgx2LtY"
      }
    },
    {
      "cell_type": "code",
      "source": [
        "def binary_to_decimal(binary_str):\n",
        "    \"\"\"Convert a binary number to its decimal equivalent.\"\"\"\n",
        "    decimal_result = 0\n",
        "    power = 0\n",
        "    for bit in reversed(binary_str):\n",
        "        if bit == '1':\n",
        "            decimal_result += 2 ** power\n",
        "        power += 1\n",
        "    return decimal_result\n",
        "binary_input = input(\"Enter a binary number: \")\n",
        "if not all(bit in '01' for bit in binary_input):\n",
        "    print(\"Invalid binary number. Please enter a valid binary string.\")\n",
        "else:\n",
        "    decimal_result = binary_to_decimal(binary_input)\n",
        "    print(f\"The decimal equivalent of {binary_input} is: {decimal_result}\")"
      ],
      "metadata": {
        "colab": {
          "base_uri": "https://localhost:8080/"
        },
        "id": "7opYe8Vw_-GL",
        "outputId": "f68d7fcf-c371-458f-e636-75e0f41ce930"
      },
      "execution_count": 13,
      "outputs": [
        {
          "output_type": "stream",
          "name": "stdout",
          "text": [
            "Enter a binary number: 01001\n",
            "The decimal equivalent of 01001 is: 9\n"
          ]
        }
      ]
    },
    {
      "cell_type": "markdown",
      "source": [
        "## 10. Matrix Transposition:\n",
        "Create a program that transposes a given matrix. The user should input the matrix as a list of lists, and the program should output the transposed matrix. For example, if the input is:"
      ],
      "metadata": {
        "id": "bhFgXCu52R3n"
      }
    },
    {
      "cell_type": "code",
      "source": [
        "def transpose_matrix(matrix):\n",
        "    \"\"\"Transpose a given matrix.\"\"\"\n",
        "\n",
        "    transposed_matrix = list(map(list, zip(*matrix)))\n",
        "    return transposed_matrix\n",
        "rows = int(input(\"Enter the number of rows in the matrix: \"))\n",
        "columns = int(input(\"Enter the number of columns in the matrix: \"))\n",
        "matrix = []\n",
        "for i in range(rows):\n",
        "    row = list(map(int, input(f\"Enter row {i + 1} (space-separated values): \").split()))\n",
        "    if len(row) != columns:\n",
        "        print(\"Invalid input. Please provide the correct number of columns.\")\n",
        "        exit()\n",
        "    matrix.append(row)\n",
        "print(\"\\nOriginal Matrix:\")\n",
        "for row in matrix:\n",
        "    print(row)\n",
        "transposed_result = transpose_matrix(matrix)\n",
        "print(\"\\nTransposed Matrix:\")\n",
        "for row in transposed_result:\n",
        "    print(row)"
      ],
      "metadata": {
        "id": "DhprwtQ02hWg",
        "colab": {
          "base_uri": "https://localhost:8080/"
        },
        "outputId": "13c28394-c1a4-4232-9eb5-ce56682a3d37"
      },
      "execution_count": 14,
      "outputs": [
        {
          "output_type": "stream",
          "name": "stdout",
          "text": [
            "Enter the number of rows in the matrix: 3\n",
            "Enter the number of columns in the matrix: 3\n",
            "Enter row 1 (space-separated values): 1\n",
            "Invalid input. Please provide the correct number of columns.\n",
            "Enter row 2 (space-separated values): 3\n",
            "Invalid input. Please provide the correct number of columns.\n",
            "Enter row 3 (space-separated values): 1 3 4\n",
            "\n",
            "Original Matrix:\n",
            "[1]\n",
            "[3]\n",
            "[1, 3, 4]\n",
            "\n",
            "Transposed Matrix:\n",
            "[1, 3, 1]\n"
          ]
        }
      ]
    },
    {
      "cell_type": "markdown",
      "source": [
        "`Feel free to tackle these exercises and let me know if you have any questions or need further explanations!`"
      ],
      "metadata": {
        "id": "l1a5wpfM2hv6"
      }
    },
    {
      "cell_type": "markdown",
      "source": [
        "# Part Three File Handling\n",
        "Calm and do it slowly and in github also try to upload the files possible"
      ],
      "metadata": {
        "id": "ZlrFrill3Bl4"
      }
    },
    {
      "cell_type": "markdown",
      "source": [
        "## 11. program to open the text file and edit it"
      ],
      "metadata": {
        "id": "-9k8YJfF3BLW"
      }
    },
    {
      "cell_type": "code",
      "source": [
        "def edit_text_file(file_path, new_content):\n",
        "    \"\"\"Open a text file, edit its content, and save the changes.\"\"\"\n",
        "    try:\n",
        "        with open(file_path, 'r') as file:\n",
        "            existing_content = file.read()\n",
        "        modified_content = existing_content.replace(\"old_text\", new_content)\n",
        "        with open(file_path, 'w') as file:\n",
        "            file.write(modified_content)\n",
        "        print(\"File edited successfully.\")\n",
        "    except FileNotFoundError:\n",
        "        print(f\"File not found: {file_path}\")\n",
        "    except Exception as e:\n",
        "        print(f\"An error occurred: {e}\")\n",
        "file_path = 'example.txt'\n",
        "new_content = 'new_text'\n",
        "edit_text_file(file_path, new_content)"
      ],
      "metadata": {
        "id": "Quy4F2UR3c04",
        "colab": {
          "base_uri": "https://localhost:8080/"
        },
        "outputId": "ba5d40fb-7f91-4c5d-94cf-ebec41a99605"
      },
      "execution_count": 1,
      "outputs": [
        {
          "output_type": "stream",
          "name": "stdout",
          "text": [
            "File not found: example.txt\n"
          ]
        }
      ]
    },
    {
      "cell_type": "markdown",
      "source": [
        "## 12. Program to list all the file in the directory\n"
      ],
      "metadata": {
        "id": "ovYWZKNH3AH_"
      }
    },
    {
      "cell_type": "code",
      "source": [
        "import os\n",
        "def list_files(directory):\n",
        "    \"\"\"List all files in the given directory.\"\"\"\n",
        "    try:\n",
        "        files = os.listdir(directory)\n",
        "        print(f\"Files in the directory '{directory}':\")\n",
        "        for file in files:\n",
        "            print(file)\n",
        "    except FileNotFoundError:\n",
        "        print(f\"Directory not found: {directory}\")\n",
        "    except Exception as e:\n",
        "        print(f\"An error occurred: {e}\")\n",
        "current_directory = os.getcwd()\n",
        "list_files(current_directory)"
      ],
      "metadata": {
        "id": "S260xGwo38vk",
        "colab": {
          "base_uri": "https://localhost:8080/"
        },
        "outputId": "39c9815f-f902-4166-a843-b843d2b64e4d"
      },
      "execution_count": 2,
      "outputs": [
        {
          "output_type": "stream",
          "name": "stdout",
          "text": [
            "Files in the directory '/content':\n",
            ".config\n",
            "sample_data\n"
          ]
        }
      ]
    },
    {
      "cell_type": "markdown",
      "source": [
        "## 13. program to find the name of list only the text file and only the image file specifically\n"
      ],
      "metadata": {
        "id": "pNalRqq-3mjE"
      }
    },
    {
      "cell_type": "code",
      "source": [
        "import os\n",
        "def list_text_files(directory):\n",
        "    \"\"\"List only text files in the given directory.\"\"\"\n",
        "    try:\n",
        "        text_files = [file for file in os.listdir(directory) if file.lower().endswith('.txt')]\n",
        "        print(f\"Text files in the directory '{directory}':\")\n",
        "        for text_file in text_files:\n",
        "            print(text_file)\n",
        "    except FileNotFoundError:\n",
        "        print(f\"Directory not found: {directory}\")\n",
        "    except Exception as e:\n",
        "        print(f\"An error occurred: {e}\")\n",
        "def list_image_files(directory):\n",
        "    \"\"\"List only image files in the given directory.\"\"\"\n",
        "    try:\n",
        "        image_files = [file for file in os.listdir(directory) if file.lower().endswith(('.jpg', '.jpeg', '.png', '.gif', '.bmp'))]\n",
        "        print(f\"Image files in the directory '{directory}':\")\n",
        "        for image_file in image_files:\n",
        "            print(image_file)\n",
        "    except FileNotFoundError:\n",
        "        print(f\"Directory not found: {directory}\")\n",
        "    except Exception as e:\n",
        "        print(f\"An error occurred: {e}\")\n",
        "current_directory = os.getcwd()\n",
        "list_text_files(current_directory)"
      ],
      "metadata": {
        "colab": {
          "base_uri": "https://localhost:8080/"
        },
        "id": "r01l9iBuBU_o",
        "outputId": "fde3ed80-c00c-48cf-bea9-f14136b482c8"
      },
      "execution_count": 3,
      "outputs": [
        {
          "output_type": "stream",
          "name": "stdout",
          "text": [
            "Text files in the directory '/content':\n"
          ]
        }
      ]
    },
    {
      "cell_type": "markdown",
      "source": [
        "## 14. Program to copy the the file and also the bundle of file to the specific location"
      ],
      "metadata": {
        "id": "7xVL49o739jv"
      }
    },
    {
      "cell_type": "code",
      "source": [
        "import shutil\n",
        "import os\n",
        "def copy_file(source_path, destination_path):\n",
        "    \"\"\"Copy a single file to the specified destination.\"\"\"\n",
        "    try:\n",
        "        shutil.copy(source_path, destination_path)\n",
        "        print(f\"File '{os.path.basename(source_path)}' copied successfully to '{destination_path}'.\")\n",
        "    except FileNotFoundError:\n",
        "        print(f\"Source file not found: {source_path}\")\n",
        "    except Exception as e:\n",
        "        print(f\"An error occurred: {e}\")\n",
        "def copy_files(bundle, destination_path):\n",
        "    \"\"\"Copy a bundle of files to the specified destination.\"\"\"\n",
        "    try:\n",
        "        for source_path in bundle:\n",
        "            if os.path.exists(source_path):\n",
        "                shutil.copy(source_path, destination_path)\n",
        "                print(f\"File '{os.path.basename(source_path)}' copied successfully to '{destination_path}'.\")\n",
        "            else:\n",
        "                print(f\"Source file not found: {source_path}\")\n",
        "    except Exception as e:\n",
        "        print(f\"An error occurred: {e}\")\n",
        "source_file = 'example.txt'\n",
        "destination_folder = 'destination_folder'\n",
        "copy_file(source_file, destination_folder)\n",
        "print(\"\\n\" + \"=\" * 40 + \"\\n\")\n",
        "source_files_bundle = ['file1.txt', 'file2.txt', 'file3.txt']\n",
        "copy_files(source_files_bundle, destination_folder)"
      ],
      "metadata": {
        "id": "rlMl6YVH4I_z",
        "colab": {
          "base_uri": "https://localhost:8080/"
        },
        "outputId": "ddafdcd2-8abe-445c-cce0-cebb8fce944d"
      },
      "execution_count": 4,
      "outputs": [
        {
          "output_type": "stream",
          "name": "stdout",
          "text": [
            "Source file not found: example.txt\n",
            "\n",
            "========================================\n",
            "\n",
            "Source file not found: file1.txt\n",
            "Source file not found: file2.txt\n",
            "Source file not found: file3.txt\n"
          ]
        }
      ]
    },
    {
      "cell_type": "markdown",
      "source": [
        "## 15. Program to delete the specific file and folder"
      ],
      "metadata": {
        "id": "rzaMo5ZT4E7R"
      }
    },
    {
      "cell_type": "code",
      "source": [
        "import os\n",
        "import shutil\n",
        "def delete_file(file_path):\n",
        "    \"\"\"Delete a specific file.\"\"\"\n",
        "    try:\n",
        "        os.remove(file_path)\n",
        "        print(f\"File '{os.path.basename(file_path)}' deleted successfully.\")\n",
        "    except FileNotFoundError:\n",
        "        print(f\"File not found: {file_path}\")\n",
        "    except Exception as e:\n",
        "        print(f\"An error occurred: {e}\")\n",
        "def delete_folder(folder_path):\n",
        "    \"\"\"Delete a specific folder and its contents.\"\"\"\n",
        "    try:\n",
        "        shutil.rmtree(folder_path)\n",
        "        print(f\"Folder '{os.path.basename(folder_path)}' and its contents deleted successfully.\")\n",
        "    except FileNotFoundError:\n",
        "        print(f\"Folder not found: {folder_path}\")\n",
        "    except Exception as e:\n",
        "        print(f\"An error occurred: {e}\")"
      ],
      "metadata": {
        "id": "Gpw4a5194oaa"
      },
      "execution_count": 8,
      "outputs": []
    },
    {
      "cell_type": "markdown",
      "source": [],
      "metadata": {
        "id": "O2PS1zXT4pF5"
      }
    }
  ]
}